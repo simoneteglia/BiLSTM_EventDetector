{
  "cells": [
    {
      "attachments": {},
      "cell_type": "markdown",
      "metadata": {
        "id": "d9fRS5bv1uAM"
      },
      "source": [
        "# 1.Initial setup"
      ]
    },
    {
      "attachments": {},
      "cell_type": "markdown",
      "metadata": {
        "id": "ADepBL5-2Cug"
      },
      "source": [
        "## Imports"
      ]
    },
    {
      "cell_type": "code",
      "execution_count": 2,
      "metadata": {
        "id": "UMsq0wws10Yy"
      },
      "outputs": [],
      "source": [
        "import pandas as pd\n",
        "import matplotlib.pyplot as plt\n",
        "import json\n",
        "from collections import Counter\n",
        "import random\n",
        "import torch\n",
        "import torch.nn as nn\n",
        "import torch.nn.functional as F\n",
        "import torch.optim as optim\n",
        "import numpy as np\n",
        "import gensim\n",
        "from sklearn.metrics import precision_score as sk_precision\n",
        "from sklearn.metrics import f1_score\n",
        "import seaborn as sns\n",
        "\n",
        "SEED = 9999\n",
        "\n",
        "random.seed(SEED)\n",
        "np.random.seed(SEED)\n",
        "torch.manual_seed(SEED)\n",
        "torch.backends.cudnn.deterministic = True"
      ]
    },
    {
      "attachments": {},
      "cell_type": "markdown",
      "metadata": {
        "id": "Kr-Lvb4i2E5U"
      },
      "source": [
        "## Connect to Drive"
      ]
    },
    {
      "cell_type": "code",
      "execution_count": 2,
      "metadata": {
        "colab": {
          "base_uri": "https://localhost:8080/"
        },
        "id": "i0AW6SDv2HRH",
        "outputId": "3d36cdd6-4dfc-4f90-b305-5b756be4bf43"
      },
      "outputs": [
        {
          "name": "stdout",
          "output_type": "stream",
          "text": [
            "Mounted at /content/drive\n"
          ]
        }
      ],
      "source": [
        "from google.colab import drive\n",
        "drive.mount('/content/drive')\n",
        "\n",
        "root_folder = '/content/drive/MyDrive/nlp_hw1'"
      ]
    },
    {
      "attachments": {},
      "cell_type": "markdown",
      "metadata": {
        "id": "3t9JHpuQ2Wvd"
      },
      "source": [
        "# 2. Dataset Class"
      ]
    },
    {
      "attachments": {},
      "cell_type": "markdown",
      "metadata": {
        "id": "ghbx6dhCS8jr"
      },
      "source": [
        "The dataset class takes in input a jsonl file and extract all the sentences list and tags list from it.\n",
        "The train dataset instance is the one responsible for creating the vocabulary (word2idx)"
      ]
    },
    {
      "cell_type": "code",
      "execution_count": 46,
      "metadata": {
        "id": "yLzdXP8L2ZXe"
      },
      "outputs": [],
      "source": [
        "class Dataset():\n",
        "  def __init__(self, data_path, wv_model):\n",
        "    self.wv_model = wv_model\n",
        "    self.raw_tokens_data = []\n",
        "    self.raw_tags_data = []\n",
        "    self.sentences, self.tags = self.read_data(data_path)\n",
        "    self.tokens_vocabulary, self.tags_vocabulary, self.index2word, self.index2tag = self.to_index(self.sentences, self.tags)\n",
        "\n",
        "\n",
        "  def read_data(self, train_path):\n",
        "    data = []\n",
        "    sentences = []\n",
        "    tags = []\n",
        "\n",
        "    with open(train_path) as f:\n",
        "      data = [json.loads(line) for line in f]\n",
        "\n",
        "    for elem in data:\n",
        "      sentences.append(elem['tokens'])\n",
        "      tags.append(elem['labels'])\n",
        "      self.raw_tokens_data.extend(elem['tokens'])\n",
        "      self.raw_tags_data.extend(elem['labels'])\n",
        "\n",
        "    \n",
        "    return sentences, tags\n",
        "\n",
        "  \n",
        "  def to_index(self, sentences, tags):\n",
        "    tokens_vocabulary = {'<UNK_TOKEN>' : 0}\n",
        "    tags_vocabulary = {}\n",
        "    for sentence in sentences:\n",
        "      for word in sentence:\n",
        "        if word not in tokens_vocabulary:\n",
        "          if word in self.wv_model:\n",
        "            tokens_vocabulary[word] = self.wv_model.key_to_index[word]\n",
        "    \n",
        "    for taglist in tags:\n",
        "      for tag in taglist:\n",
        "        if tag not in tags_vocabulary:\n",
        "          tags_vocabulary[tag] = len(tags_vocabulary)\n",
        "\n",
        "    index2word = {v: k for k, v in tokens_vocabulary.items()}\n",
        "    index2tag = {v: k for k, v in tags_vocabulary.items()}\n",
        "\n",
        "    return tokens_vocabulary, tags_vocabulary, index2word, index2tag\n",
        "\n",
        "  def encode_sentence(self, sentence):\n",
        "    encoded_sentence = [self.tokens_vocabulary[word] if word in self.tokens_vocabulary else 0 for word in sentence]\n",
        "    return encoded_sentence\n",
        "\n",
        "  def encode_tags(self, tags):\n",
        "    encoded_tags = [self.tags_vocabulary[tag] for tag in tags]\n",
        "    return encoded_tags  \n",
        "\n",
        "  def decode_sentence(self, sentence):\n",
        "    decoded_sentence = [self.index2word[word] for word in sentence]\n",
        "    return decoded_sentence\n",
        "  \n",
        "  def decode_taglist(self, taglist):\n",
        "    decoded_taglist = [self.index2tag[tag] for tag in taglist]\n",
        "    return decoded_taglist"
      ]
    },
    {
      "cell_type": "code",
      "execution_count": 9,
      "metadata": {
        "id": "E2-ocos96-Bn"
      },
      "outputs": [],
      "source": [
        "wv_model = gensim.models.KeyedVectors.load_word2vec_format(\"/content/drive/MyDrive/nlp_hw1/GoogleNews-vectors-negative300.bin\", binary=True)"
      ]
    },
    {
      "attachments": {},
      "cell_type": "markdown",
      "metadata": {
        "id": "DfwdpehkT37L"
      },
      "source": [
        "## Creating the datasets"
      ]
    },
    {
      "cell_type": "code",
      "execution_count": 47,
      "metadata": {
        "id": "8zue2EJn-IEG"
      },
      "outputs": [],
      "source": [
        "dataset = Dataset(data_path = \"/content/drive/MyDrive/nlp_hw1/train.jsonl\",wv_model = wv_model)\n",
        "validation_dataset = Dataset(data_path = \"/content/drive/MyDrive/nlp_hw1/dev.jsonl\", wv_model = wv_model)"
      ]
    },
    {
      "cell_type": "code",
      "execution_count": 12,
      "metadata": {
        "colab": {
          "base_uri": "https://localhost:8080/"
        },
        "id": "dglSyh_9RZo4",
        "outputId": "24b7838c-7c89-4bdd-f05d-495c5490cba0"
      },
      "outputs": [
        {
          "name": "stdout",
          "output_type": "stream",
          "text": [
            "{'O': 0, 'B-SCENARIO': 1, 'B-CHANGE': 2, 'B-ACTION': 3, 'B-SENTIMENT': 4, 'I-CHANGE': 5, 'B-POSSESSION': 6, 'I-ACTION': 7, 'I-SENTIMENT': 8, 'I-SCENARIO': 9, 'I-POSSESSION': 10}\n"
          ]
        }
      ],
      "source": [
        "print(dataset.tags_vocabulary)"
      ]
    },
    {
      "attachments": {},
      "cell_type": "markdown",
      "metadata": {
        "id": "kXbPR-IGcHhH"
      },
      "source": [
        "# 3. BiLSTM"
      ]
    },
    {
      "cell_type": "code",
      "execution_count": 27,
      "metadata": {
        "id": "RrE-USA215ma"
      },
      "outputs": [],
      "source": [
        "# Bi-LSTM Architecture inspired by your colab notebook\n",
        "class BiLSTMEventDetector(nn.Module):\n",
        "\n",
        "    def __init__(self,\n",
        "                 embedding_dim,\n",
        "                 weights,\n",
        "                 hidden_dim,\n",
        "                 output_dim,\n",
        "                 lstm_layers,\n",
        "                 emb_dropout,\n",
        "                 lstm_dropout,\n",
        "                 fc_dropout):\n",
        "\n",
        "        super().__init__()\n",
        "\n",
        "        self.embedding_dim = embedding_dim\n",
        "\n",
        "        self.embedding = nn.Embedding.from_pretrained(embeddings=weights)\n",
        "\n",
        "        self.emb_dropout = nn.Dropout(emb_dropout)\n",
        "\n",
        "        self.lstm = nn.LSTM(\n",
        "            input_size=embedding_dim,\n",
        "            hidden_size=hidden_dim,\n",
        "            num_layers=lstm_layers,\n",
        "            bidirectional=True,\n",
        "            dropout=lstm_dropout\n",
        "        )\n",
        "\n",
        "        self.fc_dropout = nn.Dropout(fc_dropout)\n",
        "        self.fc = nn.Linear(hidden_dim * 2, output_dim)\n",
        "\n",
        "    def forward(self, sentence):\n",
        "        embedding_out = self.emb_dropout(self.embedding(sentence))\n",
        "        lstm_out, _ = self.lstm(embedding_out)\n",
        "        lstm_out = self.fc_dropout(lstm_out)\n",
        "        tag_space = self.fc(lstm_out)\n",
        "        return tag_space\n"
      ]
    },
    {
      "attachments": {},
      "cell_type": "markdown",
      "metadata": {},
      "source": [
        "## Define the Bi-LSTM hyperparameters and create the model\n"
      ]
    },
    {
      "cell_type": "code",
      "execution_count": 15,
      "metadata": {
        "id": "rjgSoBIUTBwW"
      },
      "outputs": [],
      "source": [
        "EMBEDDING_DIM = 300\n",
        "HIDDEN_DIM = 350\n",
        "OUTPUT_DIM = 11\n",
        "weights = torch.FloatTensor(wv_model.vectors)\n",
        "device = torch.device('cuda' if torch.cuda.is_available() else 'cpu')\n",
        "\n",
        "lstm_model = BiLSTMEventDetector(EMBEDDING_DIM, weights, HIDDEN_DIM, OUTPUT_DIM,\n",
        "                                 lstm_layers = 2, emb_dropout = 0.2, lstm_dropout = 0.2,\n",
        "                                 fc_dropout = 0.2).to(device)"
      ]
    },
    {
      "attachments": {},
      "cell_type": "markdown",
      "metadata": {
        "id": "4RR9EsT_S-ey"
      },
      "source": [
        "# 3. Training\n"
      ]
    },
    {
      "attachments": {},
      "cell_type": "markdown",
      "metadata": {
        "id": "B4SeQns1TwdB"
      },
      "source": [
        "## Loss function and optimizer"
      ]
    },
    {
      "cell_type": "code",
      "execution_count": null,
      "metadata": {
        "id": "x4sveVvvOoae"
      },
      "outputs": [],
      "source": [
        "loss_function = nn.CrossEntropyLoss()\n",
        "optimizer = optim.Adam(lstm_model.parameters())"
      ]
    },
    {
      "cell_type": "code",
      "execution_count": null,
      "metadata": {
        "colab": {
          "base_uri": "https://localhost:8080/"
        },
        "id": "8_n86Qi_-nmo",
        "outputId": "6210828a-9b94-4793-9302-a3314bce9672"
      },
      "outputs": [
        {
          "name": "stdout",
          "output_type": "stream",
          "text": [
            "BiLSTMEventDetector(\n",
            "  (embedding): Embedding(3000000, 300)\n",
            "  (emb_dropout): Dropout(p=0.2, inplace=False)\n",
            "  (lstm): LSTM(300, 350, num_layers=2, dropout=0.2, bidirectional=True)\n",
            "  (fc_dropout): Dropout(p=0.25, inplace=False)\n",
            "  (fc): Linear(in_features=700, out_features=11, bias=True)\n",
            ")\n",
            "Number of trainable parameters in the LSTM:  4778911\n"
          ]
        }
      ],
      "source": [
        "print(lstm_model)\n",
        "\n",
        "total_params = sum(p.numel() for p in lstm_model.parameters() if p.requires_grad)\n",
        "print(\"Number of trainable parameters in the LSTM: \", total_params)"
      ]
    },
    {
      "attachments": {},
      "cell_type": "markdown",
      "metadata": {
        "id": "Lcq-BB1zmqFW"
      },
      "source": [
        "## Some aux functions"
      ]
    },
    {
      "cell_type": "code",
      "execution_count": 6,
      "metadata": {
        "id": "G70gDSvowQyk"
      },
      "outputs": [],
      "source": [
        "def compute_accuracy(targets, predicted_indices):\n",
        "    accuracy = sk_precision(targets.cpu(), predicted_indices.cpu(), average=\"macro\", zero_division=0)\n",
        "    return accuracy"
      ]
    },
    {
      "cell_type": "code",
      "execution_count": 5,
      "metadata": {
        "id": "SrwoyRs_KmFe"
      },
      "outputs": [],
      "source": [
        "def compute_f1(targets, predicted_indices):\n",
        "  f1 = f1_score(targets.cpu(), predicted_indices.cpu(), average=\"macro\")\n",
        "  return f1"
      ]
    },
    {
      "attachments": {},
      "cell_type": "markdown",
      "metadata": {
        "id": "ZQ65oUzvUMz5"
      },
      "source": [
        "## Let's start the training loop"
      ]
    },
    {
      "cell_type": "code",
      "execution_count": null,
      "metadata": {
        "colab": {
          "base_uri": "https://localhost:8080/"
        },
        "id": "vbmgUMDngKlb",
        "outputId": "bece3058-8779-480c-df98-e37e92975c32"
      },
      "outputs": [],
      "source": [
        "epochs = 15\n",
        "\n",
        "device = torch.device('cuda' if torch.cuda.is_available() else 'cpu')\n",
        "print(device)\n",
        "\n",
        "train_loss_list = []\n",
        "train_f1_list = []\n",
        "train_micro_precision_list = []\n",
        "val_f1_list = []\n",
        "val_micro_precision_list = []\n",
        "\n",
        "\n",
        "for epoch in range(epochs):\n",
        "  epoch_loss = 0.0\n",
        "  epoch_accuracy = 0.0\n",
        "  epoch_f1 = 0.0\n",
        "\n",
        "  lstm_model.train()\n",
        "\n",
        "  for i in range(len(dataset.sentences)):\n",
        "    sentence = dataset.sentences[i]\n",
        "    tags = dataset.tags[i]\n",
        "\n",
        "    lstm_model.zero_grad()\n",
        "\n",
        "    sentence_in = torch.tensor(dataset.encode_sentence(sentence), dtype=torch.long).to(device)\n",
        "    targets = torch.tensor(dataset.encode_tags(tags), dtype=torch.long).to(device)\n",
        "\n",
        "    tag_scores = lstm_model(sentence_in)\n",
        "\n",
        "    loss = loss_function(tag_scores.view(-1, tag_scores.shape[-1]), targets.view(-1))\n",
        "\n",
        "    _, indices = torch.max(tag_scores, 1)\n",
        "\n",
        "    epoch_loss += loss.item()\n",
        "    epoch_accuracy += compute_accuracy(targets, indices)\n",
        "    epoch_f1 += compute_f1(targets, indices, len(sentence))\n",
        "\n",
        "    loss.backward()\n",
        "\n",
        "    optimizer.step()\n",
        "  \n",
        "  print(\"Epoch {}, loss: {}, accuracy: {}, f1_score: {}\".format(epoch+1, epoch_loss/len(dataset.sentences), epoch_accuracy/len(dataset.sentences), epoch_f1 / len(dataset.sentences)))\n",
        "\n",
        "  print(\"Validation...\")\n",
        "  with torch.no_grad():\n",
        "    lstm_model.eval()\n",
        "    val_accuracy = 0.0\n",
        "    predictions = []\n",
        "    gold = []\n",
        "    for i in range(len(validation_dataset.sentences)):\n",
        "      sentence = validation_dataset.sentences[i]\n",
        "      tags = validation_dataset.tags[i]\n",
        "\n",
        "      sentence_in = torch.tensor(dataset.encode_sentence(sentence), dtype=torch.long).to(\"cuda\")\n",
        "      targets = torch.tensor(dataset.encode_tags(tags), dtype=torch.long).to(\"cuda\")\n",
        "\n",
        "      tag_scores = lstm_model(sentence_in)\n",
        "      _, indices = torch.max(tag_scores, 1)\n",
        "\n",
        "      predictions.extend(indices)\n",
        "      gold.extend(targets)\n",
        "\n",
        "      val_accuracy += compute_accuracy(targets, indices)\n",
        "\n",
        "    print(\"Validation Accuracy: \", val_accuracy / len(validation_dataset.sentences))\n",
        "    f1 = f1_score(torch.tensor(gold).cpu(), torch.tensor(predictions).cpu(), average=\"macro\")\n",
        "    print(\"Macro-f1: \", f1)\n",
        "    print(\"Macro-Precision: \", sk_precision(torch.tensor(gold).cpu(), torch.tensor(predictions).cpu(), average=\"macro\", zero_division=0))\n",
        "    print(\"Micro-Precision: \", sk_precision(torch.tensor(gold).cpu(), torch.tensor(predictions).cpu(), average=\"micro\", zero_division=0))\n",
        "\n"
      ]
    },
    {
      "attachments": {},
      "cell_type": "markdown",
      "metadata": {
        "id": "7gkvjDIFXBDD"
      },
      "source": [
        "#5.Test"
      ]
    },
    {
      "cell_type": "code",
      "execution_count": 48,
      "metadata": {
        "id": "Zhy0FUhJ2mrK"
      },
      "outputs": [],
      "source": [
        "test_dataset = Dataset(data_path = \"/content/drive/MyDrive/nlp_hw1/test.jsonl\", wv_model = wv_model)"
      ]
    },
    {
      "cell_type": "code",
      "execution_count": 28,
      "metadata": {
        "colab": {
          "base_uri": "https://localhost:8080/"
        },
        "id": "sa6Df9fR_ds4",
        "outputId": "0400c5f9-a087-4612-ae04-943f6b67ad33"
      },
      "outputs": [
        {
          "name": "stdout",
          "output_type": "stream",
          "text": [
            "BiLSTMEventDetector(\n",
            "  (embedding): Embedding(3000000, 300)\n",
            "  (emb_dropout): Dropout(p=0.25, inplace=False)\n",
            "  (lstm): LSTM(300, 350, num_layers=2, dropout=0.25, bidirectional=True)\n",
            "  (fc_dropout): Dropout(p=0.25, inplace=False)\n",
            "  (fc): Linear(in_features=700, out_features=11, bias=True)\n",
            ")\n"
          ]
        }
      ],
      "source": [
        "loaded_model = BiLSTMEventDetector(EMBEDDING_DIM, weights, HIDDEN_DIM, OUTPUT_DIM,\n",
        "                                 lstm_layers = 2, emb_dropout = 0.25, lstm_dropout = 0.25,\n",
        "                                 fc_dropout = 0.25).to(device)\n",
        "\n",
        "loaded_model.load_state_dict(torch.load(\"/content/drive/MyDrive/nlp_hw1/lstm_single_vfinal[BEST].pt\", map_location=torch.device('cpu')))\n",
        "\n",
        "print(loaded_model)"
      ]
    },
    {
      "cell_type": "code",
      "execution_count": 74,
      "metadata": {
        "colab": {
          "base_uri": "https://localhost:8080/"
        },
        "id": "hfyRctQhXEAP",
        "outputId": "fc4c4bf9-3707-435e-868c-75d9a51a2ad2"
      },
      "outputs": [
        {
          "name": "stdout",
          "output_type": "stream",
          "text": [
            "Macro Precision:  0.7157190292709101\n",
            "Micro Precision:  0.9491105955143078\n",
            "Macro f1-score:  0.7213653983337103\n"
          ]
        }
      ],
      "source": [
        "test_accuracy = 0.0\n",
        "predictions = []\n",
        "gold = []\n",
        "\n",
        "loaded_model.eval()\n",
        "\n",
        "for i in range(len(test_dataset.sentences)):\n",
        "  sentence = test_dataset.sentences[i]\n",
        "  tags = test_dataset.tags[i]\n",
        "\n",
        "  sentence_in = torch.tensor(dataset.encode_sentence(sentence), dtype=torch.long).to(\"cpu\")\n",
        "  targets = torch.tensor(dataset.encode_tags(tags), dtype=torch.long).to(\"cpu\")\n",
        "\n",
        "  tag_scores = loaded_model(sentence_in)\n",
        "  _, indices = torch.max(tag_scores, 1)\n",
        "\n",
        "  predictions.extend(indices.tolist())\n",
        "  gold.extend(targets.tolist())\n",
        "\n",
        "\n",
        "print(\"Macro Precision: \", sk_precision(gold, predictions, average=\"macro\", zero_division=0))\n",
        "print(\"Micro Precision: \", sk_precision(gold, predictions, average=\"micro\", zero_division=0))\n",
        "f1 = f1_score(gold, predictions, average=\"macro\")\n",
        "print(\"Macro f1-score: \", f1)\n"
      ]
    },
    {
      "attachments": {},
      "cell_type": "markdown",
      "metadata": {
        "id": "AwpJUzsULLXx"
      },
      "source": [
        "# Prediction Confusion Matrix"
      ]
    },
    {
      "cell_type": "code",
      "execution_count": 77,
      "metadata": {
        "colab": {
          "base_uri": "https://localhost:8080/",
          "height": 844
        },
        "id": "WCRbvlzELOw6",
        "outputId": "17fcc744-dd2c-4059-994e-30ae562dde7d"
      },
      "outputs": [
        {
          "name": "stdout",
          "output_type": "stream",
          "text": [
            "Counter({('I-POSSESSION', 'I-POSSESSION'): 1.0, ('O', 'O'): 0.97, ('I-SCENARIO', 'I-SCENARIO'): 0.96, ('I-CHANGE', 'I-CHANGE'): 0.84, ('B-CHANGE', 'B-CHANGE'): 0.79, ('B-SCENARIO', 'B-SCENARIO'): 0.78, ('B-POSSESSION', 'B-POSSESSION'): 0.78, ('B-ACTION', 'B-ACTION'): 0.68, ('B-SENTIMENT', 'B-SENTIMENT'): 0.65, ('I-ACTION', 'I-ACTION'): 0.62, ('I-SENTIMENT', 'I-SENTIMENT'): 0.5, ('I-SENTIMENT', 'O'): 0.5, ('B-SENTIMENT', 'O'): 0.28, ('B-ACTION', 'O'): 0.27, ('I-ACTION', 'O'): 0.22, ('B-SCENARIO', 'O'): 0.16, ('B-CHANGE', 'O'): 0.15, ('B-POSSESSION', 'O'): 0.15, ('I-CHANGE', 'O'): 0.08, ('I-CHANGE', 'I-ACTION'): 0.08, ('I-ACTION', 'B-ACTION'): 0.06, ('I-ACTION', 'I-CHANGE'): 0.06, ('B-SENTIMENT', 'B-ACTION'): 0.04, ('I-SCENARIO', 'O'): 0.04, ('I-ACTION', 'I-SCENARIO'): 0.04, ('B-ACTION', 'B-CHANGE'): 0.03, ('B-CHANGE', 'B-ACTION'): 0.03, ('B-SCENARIO', 'B-ACTION'): 0.03, ('B-POSSESSION', 'B-ACTION'): 0.03, ('B-POSSESSION', 'B-CHANGE'): 0.03, ('B-CHANGE', 'B-SCENARIO'): 0.02, ('B-SCENARIO', 'B-CHANGE'): 0.02, ('B-SENTIMENT', 'B-CHANGE'): 0.02, ('O', 'B-ACTION'): 0.01, ('O', 'B-SCENARIO'): 0.01, ('O', 'B-CHANGE'): 0.01, ('B-ACTION', 'B-SENTIMENT'): 0.01, ('B-ACTION', 'B-SCENARIO'): 0.01, ('B-SCENARIO', 'B-POSSESSION'): 0.01, ('B-SENTIMENT', 'B-POSSESSION'): 0.01, ('B-CHANGE', 'B-POSSESSION'): 0.01, ('B-POSSESSION', 'B-SENTIMENT'): 0.01, ('O', 'B-SENTIMENT'): 0.0, ('O', 'B-POSSESSION'): 0.0, ('O', 'I-ACTION'): 0.0, ('O', 'I-CHANGE'): 0.0, ('B-ACTION', 'B-POSSESSION'): 0.0, ('B-CHANGE', 'B-SENTIMENT'): 0.0, ('O', 'I-SCENARIO'): 0.0, ('B-SCENARIO', 'B-SENTIMENT'): 0.0, ('O', 'I-POSSESSION'): 0.0, ('B-POSSESSION', 'B-SCENARIO'): 0.0})\n"
          ]
        },
        {
          "data": {
            "image/png": "[encoded data removed]",
            "text/plain": [
              "<Figure size 1000x800 with 2 Axes>"
            ]
          },
          "metadata": {},
          "output_type": "display_data"
        }
      ],
      "source": [
        "gold_decoded = dataset.decode_taglist(gold)\n",
        "predictions_decoded = dataset.decode_taglist(predictions)\n",
        "couples = zip(gold_decoded, predictions_decoded)\n",
        "counter = Counter(couples)\n",
        "for elem in counter:\n",
        "  count = gold_decoded.count(elem[0])\n",
        "  if count != 0:\n",
        "    counter[elem] = round(counter[elem] / count, 2)\n",
        "  else:\n",
        "    counter[elem] = 0\n",
        "print(counter)\n",
        "\n",
        "confusion_df = pd.DataFrame(list(counter.items()), columns=['Actual-Predicted', 'Count'])\n",
        "confusion_df[['Actual', 'Predicted']] = pd.DataFrame(confusion_df['Actual-Predicted'].tolist(), index=confusion_df.index)\n",
        "\n",
        "confusion_matrix_df = confusion_df.pivot(index='Actual', columns='Predicted', values='Count')\n",
        "\n",
        "plt.figure(figsize=(10, 8))\n",
        "\n",
        "ax = sns.heatmap(confusion_matrix_df, annot=True, cmap='Blues', fmt='g')\n",
        "\n",
        "plt.title('Confusion Matrix')\n",
        "plt.xlabel('Predicted Label')\n",
        "plt.ylabel('Actual Label')\n",
        "\n",
        "plt.show()"
      ]
    }
  ],
  "metadata": {
    "accelerator": "GPU",
    "colab": {
      "provenance": []
    },
    "gpuClass": "standard",
    "kernelspec": {
      "display_name": "Python 3",
      "name": "python3"
    },
    "language_info": {
      "name": "python"
    }
  },
  "nbformat": 4,
  "nbformat_minor": 0
}
